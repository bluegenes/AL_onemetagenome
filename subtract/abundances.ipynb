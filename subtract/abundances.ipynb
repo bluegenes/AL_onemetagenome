{
 "cells": [
  {
   "cell_type": "markdown",
   "id": "8ebc76f5",
   "metadata": {},
   "source": [
    "data from `/home/zyzhao/AL_onemetagenome/subtract/` on farm."
   ]
  },
  {
   "cell_type": "code",
   "execution_count": 10,
   "id": "8a897b0f",
   "metadata": {},
   "outputs": [
    {
     "name": "stdout",
     "output_type": "stream",
     "text": [
      "ERR257715.x.GCA_905479735.1.all.csv   ERR257715.x.GCA_905479735.1.diff2.csv\r\n",
      "ERR257715.x.GCA_905479735.1.diff.csv  abundances.ipynb\r\n"
     ]
    }
   ],
   "source": [
    "ls"
   ]
  },
  {
   "cell_type": "code",
   "execution_count": 11,
   "id": "15ddb65c",
   "metadata": {},
   "outputs": [],
   "source": [
    "import pandas as pd\n",
    "import matplotlib.pyplot as plt"
   ]
  },
  {
   "cell_type": "code",
   "execution_count": 12,
   "id": "7b10f71f",
   "metadata": {},
   "outputs": [],
   "source": [
    "diff_df = pd.read_csv('ERR257715.x.GCA_905479735.1.diff2.csv')\n",
    "all_df = pd.read_csv('ERR257715.x.GCA_905479735.1.all.csv')"
   ]
  },
  {
   "cell_type": "code",
   "execution_count": 13,
   "id": "44d2ac23",
   "metadata": {},
   "outputs": [
    {
     "data": {
      "text/plain": [
       "28121"
      ]
     },
     "execution_count": 13,
     "metadata": {},
     "output_type": "execute_result"
    }
   ],
   "source": [
    "len(diff_df)"
   ]
  },
  {
   "cell_type": "code",
   "execution_count": 14,
   "id": "3040445c",
   "metadata": {},
   "outputs": [
    {
     "data": {
      "text/plain": [
       "449849"
      ]
     },
     "execution_count": 14,
     "metadata": {},
     "output_type": "execute_result"
    }
   ],
   "source": [
    "len(all_df)"
   ]
  },
  {
   "cell_type": "code",
   "execution_count": 15,
   "id": "732e5362",
   "metadata": {},
   "outputs": [
    {
     "name": "stdout",
     "output_type": "stream",
     "text": [
      "diff names: ['ERR257715.33920617', 'ERR257715.5985532', 'ERR257715.28838120', 'ERR257715.17895565', 'ERR257715.6239901', 'ERR257715.18578890', 'ERR257715.18330147', 'ERR257715.6363721', 'ERR257715.29623640', 'ERR257715.6181135']\n",
      "all names: ['ERR257715.923915', 'ERR257715.21647228', 'ERR257715.33920617', 'ERR257715.28838120', 'ERR257715.25987532', 'ERR257715.9741438', 'ERR257715.14746470', 'ERR257715.4717364', 'ERR257715.31953300', 'ERR257715.9238108']\n"
     ]
    },
    {
     "data": {
      "text/plain": [
       "set()"
      ]
     },
     "execution_count": 15,
     "metadata": {},
     "output_type": "execute_result"
    }
   ],
   "source": [
    "diff_names = set(diff_df['read_name'])\n",
    "diff_names = set([ x.split('/')[0] for x in diff_names ])\n",
    "all_names = set(all_df['read_name'])\n",
    "\n",
    "print('diff names:', list(diff_names)[:10])\n",
    "print('all names:', list(all_names)[:10])\n",
    "\n",
    "diff_names - all_names"
   ]
  },
  {
   "cell_type": "code",
   "execution_count": 23,
   "id": "fc0763d1",
   "metadata": {},
   "outputs": [
    {
     "data": {
      "text/plain": [
       "(-10.0, 50.0, 0.0, 34921.95)"
      ]
     },
     "execution_count": 23,
     "metadata": {},
     "output_type": "execute_result"
    },
    {
     "data": {
      "image/png": "[encoded data removed]",
      "text/plain": [
       "<Figure size 432x288 with 1 Axes>"
      ]
     },
     "metadata": {
      "needs_background": "light"
     },
     "output_type": "display_data"
    }
   ],
   "source": [
    "all_df['mapping_cov'].plot.hist(bins=100)\n",
    "diff_df['mapping_cov'].plot.hist(bins=100)\n",
    "# use .kde() for smooth\n",
    "\n",
    "plt.legend(['all', 'diff'])\n",
    "plt.axis(xmin=-10, xmax=50)"
   ]
  },
  {
   "cell_type": "markdown",
   "id": "61a38ca6",
   "metadata": {},
   "source": [
    "## Questions for Jean (and maybe Titus ;) to resolve\n",
    "\n",
    "question - why do the names in all CSV not have /1 and /2? (must be at least partly because you're running the mapping for the allCSV using a different read input file than for the diff CSV)\n"
   ]
  },
  {
   "cell_type": "markdown",
   "id": "25107500",
   "metadata": {},
   "source": [
    "TODO:\n",
    "* plot these plots for ~5 genomes; do they all look like poisson distributions?\n",
    "* if so, can we fit poisson distribution to them and extract the lambda parameter and compare lambda parameters?\n",
    "* we might also want to measure goodness of fit to each distribution so we can see how well the distributions fit to poisson and highlight places where they are not poisson random"
   ]
  },
  {
   "cell_type": "code",
   "execution_count": null,
   "id": "f2f4e1e1",
   "metadata": {},
   "outputs": [],
   "source": []
  }
 ],
 "metadata": {
  "kernelspec": {
   "display_name": "py38arm",
   "language": "python",
   "name": "py38arm"
  },
  "language_info": {
   "codemirror_mode": {
    "name": "ipython",
    "version": 3
   },
   "file_extension": ".py",
   "mimetype": "text/x-python",
   "name": "python",
   "nbconvert_exporter": "python",
   "pygments_lexer": "ipython3",
   "version": "3.8.13"
  }
 },
 "nbformat": 4,
 "nbformat_minor": 5
}
